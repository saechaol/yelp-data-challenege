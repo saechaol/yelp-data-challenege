{
 "cells": [
  {
   "cell_type": "markdown",
   "metadata": {},
   "source": [
    "# CSC 180 Assignment 1 - Yelp Data Challenge\n",
    "## Lucas Saechao"
   ]
  },
  {
   "cell_type": "code",
   "execution_count": 1,
   "metadata": {},
   "outputs": [],
   "source": [
    "import numpy as py\n",
    "import pandas as pd\n",
    "import sklearn as sk\n",
    "import tensorflow as tf\n",
    "import matplotlib.pyplot as plt\n",
    "import sys\n",
    "import csv\n",
    "import json\n",
    "import time"
   ]
  },
  {
   "cell_type": "code",
   "execution_count": 3,
   "metadata": {},
   "outputs": [],
   "source": [
    "## Helper functions\n",
    "\n",
    "# Encode textual values into indices\n",
    "def encode_text_index(df, name):\n",
    "    label_encoder = preprocessing.LabelEncoder()\n",
    "    df[name] = label_encoder.fit_transform(df[name])\n",
    "    return label_encoder.classes_\n",
    "\n",
    "# Encode a numeric column as zscores\n",
    "def encode_numeric_zscore(df, name, mean=None, sd=None):\n",
    "    if mean is None:\n",
    "        mean = df[name].mean()\n",
    "    if sd is None:\n",
    "        sd = df[name].std()\n",
    "    df[name] = (df[name] - mean) / sd\n",
    "    \n",
    "# Regression chart\n",
    "def chart_regression(pred, y, sort=True):\n",
    "    t = pd.DataFrame({'pred' : pred, 'y' : y.flatten() })\n",
    "    if sort:\n",
    "        t.sort_values(by=['y'], inplace=True)\n",
    "    a = plt.plot(t['y'].tolist(), label='expected')\n",
    "    b = plt.plot(t['pred'].tolist(), label='prediction')\n",
    "    plt.ylabel('output')\n",
    "    plt.legend()\n",
    "    plt.show()\n",
    "\n",
    "# Convert a Pandas DataFrame to the x, y inputs that TensorFlow needs\n",
    "def to_xy(df, target):\n",
    "    result = []\n",
    "    for x in df.columns:\n",
    "        if x != target:\n",
    "            result.append(x)\n",
    "    \n",
    "    # Find out the type of the target column\n",
    "    target_type = df[target].dtypes\n",
    "    target_type = target_type[0] if isinstance(target_type, Sequence) else target_type\n",
    "    \n",
    "    # Encode to int for classification, float otherwise. TensorFlow likes 32 bit values\n",
    "    if target_type in (np.int64, np.int32):\n",
    "        # Classification\n",
    "        dummies = pd.get_dummies(df[target])\n",
    "        return df[result].values.astype(np.float32), dummies.values.astype(np.float32)\n",
    "    else:\n",
    "        # Regression\n",
    "        return df[result].values.astype(np.float32), df[target].values.astype(np.float32)"
   ]
  },
  {
   "cell_type": "code",
   "execution_count": 8,
   "metadata": {},
   "outputs": [],
   "source": [
    "# Filter out businesses with less than 20 reviews\n",
    "\n",
    "# Convert raw data into a tsv \n",
    "outfile = open(\"business.tsv\", 'w')\n",
    "data_file = csv.writer(outfile, delimiter=\"\\t\", quoting=csv.QUOTE_MINIMAL)\n",
    "data_file.writerow(['business_id', 'stars', 'review_count'])\n",
    "\n",
    "# Open data from file path\n",
    "with open('data/yelp_academic_dataset_business.json', encoding=\"utf-8\") as f:\n",
    "    for line in f:\n",
    "        row = json.loads(line)\n",
    "        if (row['review_count'] >= 20):\n",
    "            data_file.writerow([row['business_id'], row['stars'], (row['review_count'])])\n",
    "outfile.close()"
   ]
  },
  {
   "cell_type": "code",
   "execution_count": 10,
   "metadata": {},
   "outputs": [
    {
     "name": "stdout",
     "output_type": "stream",
     "text": [
      "                  business_id  stars  review_count\n",
      "0      f9NumwFMBDn751xgFiRbNA    3.5            36\n",
      "1      51M2Kk903DFYI6gnB5I6SQ    4.5            26\n",
      "2      cKyLV5oWZJ2NudWgqs8VZw    4.5            38\n",
      "3      oiAlXZPIFm2nBCt0DHLu_Q    3.5            81\n",
      "4      uZuh51lXu7tsrC8RAwkg1A    4.5            32\n",
      "...                       ...    ...           ...\n",
      "66112  YZeUH6zYS0dq5QHLYZhUnQ    2.0           106\n",
      "66113  xVpE01l6ZXdEtVf5PkRpDg    4.0            95\n",
      "66114  fNil19SUfPAPnLQrYnFrGQ    4.5           124\n",
      "66115  JjcJVqhZXhP4tvOhg3fnag    5.0           217\n",
      "66116  SYa2j1boLF8DcGVOYfHPcA    3.5            97\n",
      "\n",
      "[66117 rows x 3 columns]\n",
      "                  business_id  stars  review_count\n",
      "0      f9NumwFMBDn751xgFiRbNA    3.5            36\n",
      "1      51M2Kk903DFYI6gnB5I6SQ    4.5            26\n",
      "2      cKyLV5oWZJ2NudWgqs8VZw    4.5            38\n",
      "3      oiAlXZPIFm2nBCt0DHLu_Q    3.5            81\n",
      "4      uZuh51lXu7tsrC8RAwkg1A    4.5            32\n",
      "...                       ...    ...           ...\n",
      "66112  YZeUH6zYS0dq5QHLYZhUnQ    2.0           106\n",
      "66113  xVpE01l6ZXdEtVf5PkRpDg    4.0            95\n",
      "66114  fNil19SUfPAPnLQrYnFrGQ    4.5           124\n",
      "66115  JjcJVqhZXhP4tvOhg3fnag    5.0           217\n",
      "66116  SYa2j1boLF8DcGVOYfHPcA    3.5            97\n",
      "\n",
      "[66117 rows x 3 columns]\n"
     ]
    }
   ],
   "source": [
    "# Create pandas dataframe output file\n",
    "df_business = pd.read_csv('business.tsv', delimiter=\"\\t\", encoding=\"utf-8\")\n",
    "df_stars = df_business[['business_id', 'stars', 'review_count']]\n",
    "print (df_business)\n",
    "print (df_stars)"
   ]
  },
  {
   "cell_type": "code",
   "execution_count": null,
   "metadata": {},
   "outputs": [],
   "source": []
  }
 ],
 "metadata": {
  "kernelspec": {
   "display_name": "Python 3",
   "language": "python",
   "name": "python3"
  },
  "language_info": {
   "codemirror_mode": {
    "name": "ipython",
    "version": 3
   },
   "file_extension": ".py",
   "mimetype": "text/x-python",
   "name": "python",
   "nbconvert_exporter": "python",
   "pygments_lexer": "ipython3",
   "version": "3.7.6"
  }
 },
 "nbformat": 4,
 "nbformat_minor": 4
}
