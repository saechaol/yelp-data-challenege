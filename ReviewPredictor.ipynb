{
 "cells": [
  {
   "cell_type": "markdown",
   "metadata": {},
   "source": [
    "# CSC 180 Assignment 1\n",
    "## Lucas Saechao"
   ]
  },
  {
   "cell_type": "code",
   "execution_count": 6,
   "metadata": {},
   "outputs": [],
   "source": [
    "import numpy as np\n",
    "import pandas as pd\n",
    "import sklearn as sk\n",
    "import tensorflow as tf\n",
    "import matplotlib.pyplot as plt\n",
    "import sys\n",
    "import csv\n",
    "import json\n",
    "import time\n",
    "import sklearn.feature_extraction.text as sk_extract_feature\n",
    "from sklearn.model_selection import train_test_split\n",
    "from sklearn import metrics\n",
    "from collections.abc import Sequence\n",
    "from tensorflow.keras.models import Sequential\n",
    "from tensorflow.keras.layers import Dense, Activation\n",
    "from tensorflow.keras.callbacks import EarlyStopping, ModelCheckpoint\n",
    "from IPython.display import clear_output\n",
    "import os\n",
    "\n",
    "if os.name == 'nt':\n",
    "    import winsound"
   ]
  },
  {
   "cell_type": "markdown",
   "metadata": {},
   "source": [
    "# Helper Functions:\n",
    "## encode_text_index\n",
    "Encodes textual values to indices format.\n",
    "\n",
    "## ecnode_numeric_zscore\n",
    "Computes and encodes a given column as its z-score.\n",
    "\n",
    "## chart_regression\n",
    "Prints a chart representing the model's regression.\n",
    "\n",
    "## to_xy\n",
    "Converts a pandas DataFrame into <x, y> inputs as required for TensorFlow."
   ]
  },
  {
   "cell_type": "code",
   "execution_count": 7,
   "metadata": {},
   "outputs": [],
   "source": [
    "# Encode textual values into indices\n",
    "def encode_text_index(df, name):\n",
    "    label_encoder = preprocessing.LabelEncoder()\n",
    "    df[name] = label_encoder.fit_transform(df[name])\n",
    "    return label_encoder.classes_\n",
    "\n",
    "# Encode a numeric column as zscores\n",
    "def encode_numeric_zscore(df, name, mean=None, sd=None):\n",
    "    if mean is None:\n",
    "        mean = df[name].mean()\n",
    "    if sd is None:\n",
    "        sd = df[name].std()\n",
    "    df[name] = (df[name] - mean) / sd\n",
    "    \n",
    "# Regression chart\n",
    "def chart_regression(pred, y, sort=True):\n",
    "    t = pd.DataFrame({'pred' : pred, 'y' : y.flatten() })\n",
    "    if sort:\n",
    "        t.sort_values(by=['y'], inplace=True)\n",
    "    a = plt.plot(t['pred'].tolist(), label='prediction')\n",
    "    b = plt.plot(t['y'].tolist(), label='expected')\n",
    "    plt.ylabel('output')\n",
    "    plt.legend()\n",
    "    plt.show()\n",
    "\n",
    "# Convert a Pandas DataFrame to the x, y inputs that TensorFlow needs\n",
    "def to_xy(df, target):\n",
    "    result = []\n",
    "    for x in df.columns:\n",
    "        if x != target:\n",
    "            result.append(x)\n",
    "    \n",
    "    # Find out the type of the target column\n",
    "    target_type = df[target].dtypes\n",
    "    target_type = target_type[0] if isinstance(target_type, Sequence) else target_type\n",
    "    \n",
    "    # Encode to int for classification, float otherwise. TensorFlow likes 32 bit values\n",
    "    if target_type in (np.int64, np.int32):\n",
    "        # Classification\n",
    "        dummies = pd.get_dummies(df[target])\n",
    "        return df[result].values.astype(np.float32), dummies.values.astype(np.float32)\n",
    "    else:\n",
    "        # Regression\n",
    "        return df[result].values.astype(np.float32), df[target].values.astype(np.float32)"
   ]
  },
  {
   "cell_type": "markdown",
   "metadata": {},
   "source": [
    "# Filter out business with less than 20 reviews\n",
    "For each business in which its 'review_count' value is greater than 20, write to a tab separated values (tsv) file its ID, star rating, and review count. The resulting file is then read into a pandas DataFrame and printed for verification."
   ]
  },
  {
   "cell_type": "code",
   "execution_count": 8,
   "metadata": {},
   "outputs": [],
   "source": [
    "outfile = open(\"business.tsv\", 'w', encoding='utf-8')\n",
    "data_file = csv.writer(outfile, delimiter=\"\\t\", quoting=csv.QUOTE_MINIMAL)\n",
    "data_file.writerow(['business_id', 'name', 'stars', 'review_count'])\n",
    "\n",
    "# Open data from file path\n",
    "with open('data/yelp_academic_dataset_business.json', encoding=\"utf-8\") as f:\n",
    "    for line in f:\n",
    "        row = json.loads(line)\n",
    "        if (row['review_count'] >= 20):\n",
    "            data_file.writerow([row['business_id'], row['name'], row['stars'], (row['review_count'])])\n",
    "\n",
    "outfile.close()"
   ]
  },
  {
   "cell_type": "code",
   "execution_count": 9,
   "metadata": {},
   "outputs": [
    {
     "name": "stdout",
     "output_type": "stream",
     "text": [
      "                  business_id                           name  stars  \\\n",
      "0      f9NumwFMBDn751xgFiRbNA       The Range At Lake Norman    3.5   \n",
      "1      51M2Kk903DFYI6gnB5I6SQ        USE MY GUY SERVICES LLC    4.5   \n",
      "2      cKyLV5oWZJ2NudWgqs8VZw    Oasis Auto Center - Gilbert    4.5   \n",
      "3      oiAlXZPIFm2nBCt0DHLu_Q           Green World Cleaners    3.5   \n",
      "4      uZuh51lXu7tsrC8RAwkg1A                 Manolo Blahnik    4.5   \n",
      "...                       ...                            ...    ...   \n",
      "66112  YZeUH6zYS0dq5QHLYZhUnQ                        Hooters    2.0   \n",
      "66113  xVpE01l6ZXdEtVf5PkRpDg                          Julep    4.0   \n",
      "66114  fNil19SUfPAPnLQrYnFrGQ  Cheyenne West Animal Hospital    4.5   \n",
      "66115  JjcJVqhZXhP4tvOhg3fnag              Water Heater Pros    5.0   \n",
      "66116  SYa2j1boLF8DcGVOYfHPcA                      Five Guys    3.5   \n",
      "\n",
      "       review_count  \n",
      "0                36  \n",
      "1                26  \n",
      "2                38  \n",
      "3                81  \n",
      "4                32  \n",
      "...             ...  \n",
      "66112           106  \n",
      "66113            95  \n",
      "66114           124  \n",
      "66115           217  \n",
      "66116            97  \n",
      "\n",
      "[66117 rows x 4 columns]\n",
      "                  business_id                           name  stars\n",
      "0      f9NumwFMBDn751xgFiRbNA       The Range At Lake Norman    3.5\n",
      "1      51M2Kk903DFYI6gnB5I6SQ        USE MY GUY SERVICES LLC    4.5\n",
      "2      cKyLV5oWZJ2NudWgqs8VZw    Oasis Auto Center - Gilbert    4.5\n",
      "3      oiAlXZPIFm2nBCt0DHLu_Q           Green World Cleaners    3.5\n",
      "4      uZuh51lXu7tsrC8RAwkg1A                 Manolo Blahnik    4.5\n",
      "...                       ...                            ...    ...\n",
      "66112  YZeUH6zYS0dq5QHLYZhUnQ                        Hooters    2.0\n",
      "66113  xVpE01l6ZXdEtVf5PkRpDg                          Julep    4.0\n",
      "66114  fNil19SUfPAPnLQrYnFrGQ  Cheyenne West Animal Hospital    4.5\n",
      "66115  JjcJVqhZXhP4tvOhg3fnag              Water Heater Pros    5.0\n",
      "66116  SYa2j1boLF8DcGVOYfHPcA                      Five Guys    3.5\n",
      "\n",
      "[66117 rows x 3 columns]\n",
      "                  business_id                           name  review_count\n",
      "0      f9NumwFMBDn751xgFiRbNA       The Range At Lake Norman            36\n",
      "1      51M2Kk903DFYI6gnB5I6SQ        USE MY GUY SERVICES LLC            26\n",
      "2      cKyLV5oWZJ2NudWgqs8VZw    Oasis Auto Center - Gilbert            38\n",
      "3      oiAlXZPIFm2nBCt0DHLu_Q           Green World Cleaners            81\n",
      "4      uZuh51lXu7tsrC8RAwkg1A                 Manolo Blahnik            32\n",
      "...                       ...                            ...           ...\n",
      "66112  YZeUH6zYS0dq5QHLYZhUnQ                        Hooters           106\n",
      "66113  xVpE01l6ZXdEtVf5PkRpDg                          Julep            95\n",
      "66114  fNil19SUfPAPnLQrYnFrGQ  Cheyenne West Animal Hospital           124\n",
      "66115  JjcJVqhZXhP4tvOhg3fnag              Water Heater Pros           217\n",
      "66116  SYa2j1boLF8DcGVOYfHPcA                      Five Guys            97\n",
      "\n",
      "[66117 rows x 3 columns]\n"
     ]
    }
   ],
   "source": [
    "# Create pandas dataframe output file\n",
    "df_business = pd.read_csv('business.tsv', delimiter=\"\\t\", encoding=\"utf-8\")\n",
    "df_all = df_business[['business_id', 'name', 'stars', 'review_count']]\n",
    "df_stars = df_business[['business_id', 'name', 'stars']]\n",
    "df_reviews = df_business[['business_id', 'name','review_count']]\n",
    "print (df_business)\n",
    "print (df_stars)\n",
    "print (df_reviews)"
   ]
  },
  {
   "cell_type": "markdown",
   "metadata": {},
   "source": [
    "# Filter out review text by business and star rating\n",
    "Choose a few arbitrary businesses to fetch reviews for, and map them into a dictionary. For each business in ```yelp_academic_dataset_review.json```, if its ID exists in ```business_map```, write its ID, star rating, and review text to ```reviews_by_stars.tsv```."
   ]
  },
  {
   "cell_type": "code",
   "execution_count": 10,
   "metadata": {},
   "outputs": [],
   "source": [
    "# Arbitrarily choose businesses to search reviews for\n",
    "#business_map = {'SYa2j1boLF8DcGVOYfHPcA':'Five Guys', 'JjcJVqhZXhP4tvOhg3fnag':'Water Heater Pros', 'fNil19SUfPAPnLQrYnFrGQ':'Cheyenne West Animal Hospital', 'xVpE01l6ZXdEtVf5PkRpDg':'Julep', 'YZeUH6zYS0dq5QHLYZhUnQ':'Hooters'}\n",
    "\n",
    "# write a tsv file with review text\n",
    "outfile = open('reviews_by_stars.tsv', 'w', encoding='utf-8')\n",
    "file_writer = csv.writer(outfile, delimiter = \"\\t\", quoting=csv.QUOTE_MINIMAL)\n",
    "file_writer.writerow(['business_id', 'stars', 'text'])\n",
    "\n",
    "# Open data from path\n",
    "with open('data/yelp_academic_dataset_review.json', encoding=\"utf-8\") as f:\n",
    "    i = 0\n",
    "    for line in f:\n",
    "        i += 1\n",
    "        row = json.loads(line)\n",
    "        file_writer.writerow( [row['business_id'], row['stars'], (row['text']).encode('utf-8')])\n",
    "outfile.close()\n",
    "winsound.Beep(2000, 300)\n",
    "winsound.Beep(2000, 300)\n",
    "winsound.Beep(2000, 300)"
   ]
  },
  {
   "cell_type": "code",
   "execution_count": 11,
   "metadata": {},
   "outputs": [
    {
     "name": "stdout",
     "output_type": "stream",
     "text": [
      "                    business_id  stars  \\\n",
      "0        -MhfebM0QIsKt87iDN-FNw    2.0   \n",
      "1        lbrU8StCq3yDfr-QMnGrmQ    1.0   \n",
      "2        HQl28KMwrEKHqhFrrDqVNQ    5.0   \n",
      "3        5JxlZaqCnk1MnbgRirs40Q    1.0   \n",
      "4        IS4cv902ykd8wj1TR0N3-A    4.0   \n",
      "...                         ...    ...   \n",
      "8021117  XW2kaXdahICaJ27A0dhGHg    1.0   \n",
      "8021118  IsoLzudHC50oJLiEWpwV-w    3.0   \n",
      "8021119  kDCyqlYcstqnoqnfBRS5Og    5.0   \n",
      "8021120  VKVDDHKtsdrnigeIf9S8RA    3.0   \n",
      "8021121  2SbyRgHWuWNlq18eHAx95Q    5.0   \n",
      "\n",
      "                                                      text  \n",
      "0        b'As someone who has worked with many museums,...  \n",
      "1        b'I am actually horrified this place is still ...  \n",
      "2        b\"I love Deagan's. I do. I really do. The atmo...  \n",
      "3        b'Dismal, lukewarm, defrosted-tasting \"TexMex\"...  \n",
      "4        b'Oh happy day, finally have a Canes near my c...  \n",
      "...                                                    ...  \n",
      "8021117  b\"Fricken unbelievable, I ordered 2 space heat...  \n",
      "8021118  b\"Solid American food with a southern comfort ...  \n",
      "8021119  b\"I'm honestly not sure how I have never been ...  \n",
      "8021120  b\"Food was decent but I will say the service t...  \n",
      "8021121  b\"Oh yeah! Not only that the service was good,...  \n",
      "\n",
      "[8021122 rows x 3 columns]\n"
     ]
    }
   ],
   "source": [
    "# Create pandas dataframe output file\n",
    "df = pd.read_csv('reviews_by_stars.tsv', delimiter = \"\\t\", encoding = \"utf-8\")\n",
    "print(df)"
   ]
  },
  {
   "cell_type": "markdown",
   "metadata": {},
   "source": [
    "# Prepare data for language processing\n",
    "For each business, aggregate its review data into a single column, and merge the resulting DataFrame with its corresponding star rating."
   ]
  },
  {
   "cell_type": "code",
   "execution_count": 12,
   "metadata": {},
   "outputs": [
    {
     "name": "stdout",
     "output_type": "stream",
     "text": [
      "                  business_id  \\\n",
      "0      --1UhMGODdWsrMastO9DZw   \n",
      "1      --6MefnULPED_I942VcFNA   \n",
      "2      --7zmmkVg-IMGaXbuVd0SQ   \n",
      "3      --9e1ONYQuAa-CB_Rrw7Tw   \n",
      "4      --DaPTJW3-tB1vP-PfdTEg   \n",
      "...                       ...   \n",
      "66112  zzsOLFhgUw8gnjLTVVItFA   \n",
      "66113  zzwaS0xn1MVEPEf0hNLjew   \n",
      "66114  zzwhN7x37nyjP0ZM8oiHmw   \n",
      "66115  zzwicjPC9g246MK2M1ZFBA   \n",
      "66116  zzzaIBwimxVej4tY6qFOUQ   \n",
      "\n",
      "                                                    text  \\\n",
      "0      b'If you are looking for authentic Mexican str...   \n",
      "1      b\"The bbq pork is very juicy and I only come h...   \n",
      "2      b\"I'm a tad reluctant to write a review as I r...   \n",
      "3      b\"On yelp 5 stars = Woohoo! as good as it gets...   \n",
      "4      b\"I used to come to this restaurant about two ...   \n",
      "...                                                  ...   \n",
      "66112  b\"I'm usually not a big fan of Mexican pastrie...   \n",
      "66113  b'Though, I never had a friend with a grandma ...   \n",
      "66114  b'This place is a hidden gem! The pickle fries...   \n",
      "66115  b'Food not good no selection..bad service +Qat...   \n",
      "66116  b\"Way overpriced $35.99 Family Meal, tasteless...   \n",
      "\n",
      "                                name  stars  \n",
      "0                   The Spicy Amigos    4.0  \n",
      "1      John's Chinese BBQ Restaurant    3.0  \n",
      "2                     Primal Brewery    4.0  \n",
      "3               Delmonico Steakhouse    4.0  \n",
      "4                    Sunnyside Grill    4.0  \n",
      "...                              ...    ...  \n",
      "66112             La Purisima Bakery    4.5  \n",
      "66113             Dilly Dally Lounge    3.5  \n",
      "66114               Carmody's Grille    4.0  \n",
      "66115                        Sizzler    3.0  \n",
      "66116                      Guthrie's    3.5  \n",
      "\n",
      "[66117 rows x 4 columns]\n"
     ]
    }
   ],
   "source": [
    "df_aggregate_reviews = df.groupby('business_id')['text'].sum()\n",
    "df_reviews_by_stars = pd.merge(df_aggregate_reviews, df_stars, on = 'business_id')\n",
    "print(df_reviews_by_stars)"
   ]
  },
  {
   "cell_type": "markdown",
   "metadata": {},
   "source": [
    "# Prepare TF-IDF Vectorizer\n",
    "Prepare the vectorizer and fit it to the merged ```df_reviews_by_stars``` DataFrame, and apply it to the review column. After the TF-IDF vectorizer is run, merge it with the original data frame by its review text, and drop any unnecessary columns to prepare a DataFrame for the neural network."
   ]
  },
  {
   "cell_type": "code",
   "execution_count": 13,
   "metadata": {},
   "outputs": [
    {
     "name": "stdout",
     "output_type": "stream",
     "text": [
      "       stars         0         1        2         3         4         5  \\\n",
      "0        4.0  0.000000  0.008077  0.00000  0.025287  0.045352  0.009443   \n",
      "1        3.0  0.022653  0.012184  0.00000  0.014304  0.008551  0.017806   \n",
      "2        4.0  0.000000  0.012599  0.00000  0.000000  0.011790  0.004910   \n",
      "3        4.0  0.005462  0.013115  0.00976  0.005132  0.005707  0.007053   \n",
      "4        4.0  0.000000  0.028655  0.00000  0.008971  0.008045  0.006700   \n",
      "...      ...       ...       ...      ...       ...       ...       ...   \n",
      "66112    4.5  0.000000  0.025896  0.00000  0.000000  0.000000  0.015138   \n",
      "66113    3.5  0.006621  0.013354  0.01352  0.006968  0.000000  0.015612   \n",
      "66114    4.0  0.000000  0.013746  0.00000  0.000000  0.006432  0.000000   \n",
      "66115    3.0  0.007472  0.027629  0.00000  0.003932  0.000000  0.005873   \n",
      "66116    3.5  0.000000  0.000000  0.00000  0.000000  0.000000  0.000000   \n",
      "\n",
      "              6        7         8  ...       990      991       992  \\\n",
      "0      0.000000  0.00000  0.000000  ...  0.012897  0.00000  0.000000   \n",
      "1      0.010405  0.00000  0.000000  ...  0.000000  0.00000  0.000000   \n",
      "2      0.000000  0.00000  0.000000  ...  0.000000  0.00000  0.000000   \n",
      "3      0.010454  0.00104  0.003338  ...  0.051305  0.23938  0.014256   \n",
      "4      0.013052  0.00000  0.000000  ...  0.009151  0.00000  0.000000   \n",
      "...         ...      ...       ...  ...       ...      ...       ...   \n",
      "66112  0.011058  0.00000  0.000000  ...  0.036180  0.00000  0.000000   \n",
      "66113  0.030412  0.00000  0.019992  ...  0.000000  0.00000  0.000000   \n",
      "66114  0.000000  0.00000  0.000000  ...  0.014632  0.00000  0.000000   \n",
      "66115  0.008580  0.00000  0.018802  ...  0.012031  0.00000  0.000000   \n",
      "66116  0.006290  0.00000  0.000000  ...  0.000000  0.00000  0.000000   \n",
      "\n",
      "            993       994       995       996       997       998       999  \n",
      "0      0.000000  0.008549  0.000000  0.000000  0.000000  0.000000  0.000000  \n",
      "1      0.007170  0.038688  0.011803  0.011475  0.000000  0.006005  0.000000  \n",
      "2      0.000000  0.008891  0.000000  0.015822  0.019307  0.000000  0.000000  \n",
      "3      0.014510  0.018046  0.008131  0.014329  0.002211  0.010859  0.014583  \n",
      "4      0.000000  0.006066  0.000000  0.014394  0.000000  0.000000  0.009371  \n",
      "...         ...       ...       ...       ...       ...       ...       ...  \n",
      "66112  0.011430  0.034262  0.000000  0.020325  0.009921  0.000000  0.026465  \n",
      "66113  0.000000  0.032980  0.005749  0.022360  0.013642  0.000000  0.000000  \n",
      "66114  0.005393  0.024249  0.011836  0.017262  0.007021  0.000000  0.007492  \n",
      "66115  0.011825  0.031903  0.000000  0.022080  0.007698  0.004951  0.008214  \n",
      "66116  0.000000  0.005846  0.014268  0.006936  0.000000  0.000000  0.000000  \n",
      "\n",
      "[66117 rows x 1001 columns]\n"
     ]
    }
   ],
   "source": [
    "tfidf_vectorizer = sk_extract_feature.TfidfVectorizer(stop_words='english', max_features=1000, min_df=1)\n",
    "review_vector = tfidf_vectorizer.fit_transform(df_reviews_by_stars['text'])\n",
    "\n",
    "df_vectorized_reviews = pd.DataFrame(review_vector.toarray())\n",
    "df_concat_reviews = pd.concat([df_reviews_by_stars, df_vectorized_reviews], axis=1)\n",
    "businesses = df_concat_reviews['name']\n",
    "\n",
    "df_neural_network = df_concat_reviews.drop(['business_id', 'text', 'name'], axis=1)\n",
    "print(df_neural_network)"
   ]
  },
  {
   "cell_type": "code",
   "execution_count": 14,
   "metadata": {},
   "outputs": [
    {
     "name": "stdout",
     "output_type": "stream",
     "text": [
      "(33058, 1000)\n",
      "(33058,)\n",
      "(33059, 1000)\n",
      "(33059,)\n"
     ]
    }
   ],
   "source": [
    "# Prepare text dummy\n",
    "x, y = to_xy(df_neural_network, \"stars\")\n",
    "\n",
    "# Split training and test data\n",
    "x_train, x_test, y_train, y_test = train_test_split(x, y, test_size=0.5, random_state = 40)\n",
    "\n",
    "# Print data shape\n",
    "print(x_train.shape)\n",
    "print(y_train.shape)\n",
    "print(x_test.shape)\n",
    "print(y_test.shape)"
   ]
  },
  {
   "cell_type": "markdown",
   "metadata": {},
   "source": [
    "# Prepare Neural Network"
   ]
  },
  {
   "cell_type": "code",
   "execution_count": 15,
   "metadata": {},
   "outputs": [
    {
     "name": "stdout",
     "output_type": "stream",
     "text": [
      "WARNING:tensorflow:From C:\\Users\\19165\\anaconda3\\lib\\site-packages\\tensorflow\\python\\ops\\init_ops.py:1251: calling VarianceScaling.__init__ (from tensorflow.python.ops.init_ops) with dtype is deprecated and will be removed in a future version.\n",
      "Instructions for updating:\n",
      "Call initializer instance with the dtype argument instead of passing it to the constructor\n",
      "Train on 33058 samples, validate on 33059 samples\n",
      "Epoch 1/1000\n",
      "33058/33058 - 6s - loss: 0.1780 - val_loss: 0.0864\n",
      "Epoch 2/1000\n",
      "33058/33058 - 2s - loss: 0.0795 - val_loss: 0.0781\n",
      "Epoch 3/1000\n",
      "33058/33058 - 2s - loss: 0.0711 - val_loss: 0.0728\n",
      "Epoch 4/1000\n",
      "33058/33058 - 2s - loss: 0.0672 - val_loss: 0.0728\n",
      "Epoch 5/1000\n",
      "33058/33058 - 2s - loss: 0.0660 - val_loss: 0.0682\n",
      "Epoch 6/1000\n",
      "33058/33058 - 2s - loss: 0.0654 - val_loss: 0.0699\n",
      "Epoch 7/1000\n",
      "33058/33058 - 2s - loss: 0.0639 - val_loss: 0.0711\n",
      "Epoch 8/1000\n",
      "33058/33058 - 2s - loss: 0.0628 - val_loss: 0.0679\n",
      "Epoch 9/1000\n",
      "33058/33058 - 2s - loss: 0.0608 - val_loss: 0.0724\n",
      "Epoch 10/1000\n",
      "33058/33058 - 2s - loss: 0.0598 - val_loss: 0.0702\n",
      "Epoch 11/1000\n",
      "33058/33058 - 2s - loss: 0.0589 - val_loss: 0.0692\n",
      "Epoch 12/1000\n",
      "33058/33058 - 3s - loss: 0.0579 - val_loss: 0.0698\n",
      "Epoch 13/1000\n",
      "33058/33058 - 2s - loss: 0.0565 - val_loss: 0.0705\n",
      "Epoch 14/1000\n",
      "33058/33058 - 2s - loss: 0.0550 - val_loss: 0.0698\n",
      "Epoch 15/1000\n",
      "33058/33058 - 2s - loss: 0.0544 - val_loss: 0.0705\n",
      "Epoch 16/1000\n",
      "33058/33058 - 2s - loss: 0.0531 - val_loss: 0.0705\n",
      "Epoch 17/1000\n",
      "33058/33058 - 3s - loss: 0.0522 - val_loss: 0.0720\n",
      "Epoch 18/1000\n",
      "33058/33058 - 2s - loss: 0.0517 - val_loss: 0.0726\n",
      "Epoch 19/1000\n",
      "33058/33058 - 3s - loss: 0.0501 - val_loss: 0.0744\n",
      "Epoch 20/1000\n",
      "33058/33058 - 3s - loss: 0.0493 - val_loss: 0.0758\n",
      "Epoch 21/1000\n",
      "33058/33058 - 3s - loss: 0.0485 - val_loss: 0.0722\n",
      "Epoch 22/1000\n",
      "33058/33058 - 3s - loss: 0.0471 - val_loss: 0.0756\n",
      "Epoch 23/1000\n",
      "33058/33058 - 2s - loss: 0.0463 - val_loss: 0.0766\n",
      "Epoch 24/1000\n",
      "33058/33058 - 3s - loss: 0.0458 - val_loss: 0.0748\n",
      "Epoch 25/1000\n",
      "33058/33058 - 3s - loss: 0.0445 - val_loss: 0.0886\n",
      "Epoch 00025: early stopping\n"
     ]
    }
   ],
   "source": [
    "model = Sequential()\n",
    "\n",
    "model.add(Dense(500, input_dim=x.shape[1], activation='tanh'))\n",
    "model.add(Dense(250, activation='sigmoid'))\n",
    "model.add(Dense(125, activation='relu'))\n",
    "model.add(Dense(1))\n",
    "\n",
    "model.compile(loss = 'mean_squared_error', optimizer='adam')\n",
    "monitor = EarlyStopping(monitor='val_loss', min_delta=1e-3, patience=20, verbose=2, mode='auto')\n",
    "checkpoint = ModelCheckpoint(filepath=\"weight/best_weights.hdf5\")\n",
    "\n",
    "model.fit(x_train, y_train, validation_data=(x_test, y_test), callbacks=[monitor, checkpoint], verbose=2, epochs=1000)\n",
    "\n",
    "model.load_weights(\"weight/best_weights.hdf5\")"
   ]
  },
  {
   "cell_type": "code",
   "execution_count": 16,
   "metadata": {},
   "outputs": [
    {
     "name": "stdout",
     "output_type": "stream",
     "text": [
      "Shape: (33059, 1)\n",
      "[[4.3929768]\n",
      " [3.2307346]\n",
      " [4.386558 ]\n",
      " ...\n",
      " [4.475309 ]\n",
      " [2.6015103]\n",
      " [4.148482 ]]\n",
      "[[2.2975726]\n",
      " [2.8817348]\n",
      " [3.2957222]\n",
      " ...\n",
      " [3.5922573]\n",
      " [1.9834926]\n",
      " [3.865971 ]]\n"
     ]
    }
   ],
   "source": [
    "pred_test = model.predict(x_test)\n",
    "print(\"Shape: {}\".format(pred_test.shape))\n",
    "print(pred_test)\n",
    "\n",
    "pred_train = model.predict(x_train)\n",
    "print(pred_train)"
   ]
  },
  {
   "cell_type": "markdown",
   "metadata": {},
   "source": [
    "# Measure RMSE error\n",
    "Root Means Squared Error is commonly used to analyze results of regression problems."
   ]
  },
  {
   "cell_type": "code",
   "execution_count": 17,
   "metadata": {},
   "outputs": [
    {
     "name": "stdout",
     "output_type": "stream",
     "text": [
      "Root Means Squared Error: 0.29757821559906006\n"
     ]
    }
   ],
   "source": [
    "rmse = np.sqrt(metrics.mean_squared_error(pred_test, y_test))\n",
    "print(\"Root Means Squared Error: {}\".format(rmse))"
   ]
  },
  {
   "cell_type": "code",
   "execution_count": 18,
   "metadata": {},
   "outputs": [
    {
     "name": "stdout",
     "output_type": "stream",
     "text": [
      "1. Business: The Spicy Amigos, Rating: 4.0, Predicted Rating: [4.3929768]\n",
      "2. Business: John's Chinese BBQ Restaurant, Rating: 3.0, Predicted Rating: [3.2307346]\n",
      "3. Business: Primal Brewery, Rating: 4.0, Predicted Rating: [4.386558]\n",
      "4. Business: Delmonico Steakhouse, Rating: 4.0, Predicted Rating: [3.0757666]\n",
      "5. Business: Sunnyside Grill, Rating: 4.0, Predicted Rating: [3.740319]\n"
     ]
    }
   ],
   "source": [
    "for i in range(5):\n",
    "    print(\"{}. Business: {}, Rating: {}, Predicted Rating: {}\".format(i + 1, businesses[i], y[i], pred_test[i]))"
   ]
  },
  {
   "cell_type": "code",
   "execution_count": 19,
   "metadata": {},
   "outputs": [
    {
     "name": "stdout",
     "output_type": "stream",
     "text": [
      "0. Business: The Spicy Amigos, Rating: 4.0, Predicted Rating: [2.2975726]\n",
      "1. Business: John's Chinese BBQ Restaurant, Rating: 3.0, Predicted Rating: [2.8817348]\n",
      "2. Business: Primal Brewery, Rating: 4.0, Predicted Rating: [3.2957222]\n",
      "3. Business: Delmonico Steakhouse, Rating: 4.0, Predicted Rating: [3.8166554]\n",
      "4. Business: Sunnyside Grill, Rating: 4.0, Predicted Rating: [2.6089947]\n"
     ]
    }
   ],
   "source": [
    "for i in range(5):\n",
    "    print(\"{}. Business: {}, Rating: {}, Predicted Rating: {}\".format(i, businesses[i], y[i], pred_train[i]))"
   ]
  },
  {
   "cell_type": "markdown",
   "metadata": {},
   "source": [
    "# Print prediction\n",
    "Merge the prediction and test columns together and print them."
   ]
  },
  {
   "cell_type": "code",
   "execution_count": 20,
   "metadata": {},
   "outputs": [
    {
     "data": {
      "text/html": [
       "<div>\n",
       "<style scoped>\n",
       "    .dataframe tbody tr th:only-of-type {\n",
       "        vertical-align: middle;\n",
       "    }\n",
       "\n",
       "    .dataframe tbody tr th {\n",
       "        vertical-align: top;\n",
       "    }\n",
       "\n",
       "    .dataframe thead th {\n",
       "        text-align: right;\n",
       "    }\n",
       "</style>\n",
       "<table border=\"1\" class=\"dataframe\">\n",
       "  <thead>\n",
       "    <tr style=\"text-align: right;\">\n",
       "      <th></th>\n",
       "      <th>ground_truth</th>\n",
       "      <th>predicted</th>\n",
       "    </tr>\n",
       "  </thead>\n",
       "  <tbody>\n",
       "    <tr>\n",
       "      <th>0</th>\n",
       "      <td>4.0</td>\n",
       "      <td>4.392977</td>\n",
       "    </tr>\n",
       "    <tr>\n",
       "      <th>1</th>\n",
       "      <td>3.5</td>\n",
       "      <td>3.230735</td>\n",
       "    </tr>\n",
       "    <tr>\n",
       "      <th>2</th>\n",
       "      <td>4.5</td>\n",
       "      <td>4.386558</td>\n",
       "    </tr>\n",
       "    <tr>\n",
       "      <th>3</th>\n",
       "      <td>3.0</td>\n",
       "      <td>3.075767</td>\n",
       "    </tr>\n",
       "    <tr>\n",
       "      <th>4</th>\n",
       "      <td>3.5</td>\n",
       "      <td>3.740319</td>\n",
       "    </tr>\n",
       "    <tr>\n",
       "      <th>...</th>\n",
       "      <td>...</td>\n",
       "      <td>...</td>\n",
       "    </tr>\n",
       "    <tr>\n",
       "      <th>33054</th>\n",
       "      <td>3.5</td>\n",
       "      <td>3.056582</td>\n",
       "    </tr>\n",
       "    <tr>\n",
       "      <th>33055</th>\n",
       "      <td>4.0</td>\n",
       "      <td>4.042161</td>\n",
       "    </tr>\n",
       "    <tr>\n",
       "      <th>33056</th>\n",
       "      <td>5.0</td>\n",
       "      <td>4.475309</td>\n",
       "    </tr>\n",
       "    <tr>\n",
       "      <th>33057</th>\n",
       "      <td>3.0</td>\n",
       "      <td>2.601510</td>\n",
       "    </tr>\n",
       "    <tr>\n",
       "      <th>33058</th>\n",
       "      <td>4.5</td>\n",
       "      <td>4.148482</td>\n",
       "    </tr>\n",
       "  </tbody>\n",
       "</table>\n",
       "<p>33059 rows × 2 columns</p>\n",
       "</div>"
      ],
      "text/plain": [
       "       ground_truth  predicted\n",
       "0               4.0   4.392977\n",
       "1               3.5   3.230735\n",
       "2               4.5   4.386558\n",
       "3               3.0   3.075767\n",
       "4               3.5   3.740319\n",
       "...             ...        ...\n",
       "33054           3.5   3.056582\n",
       "33055           4.0   4.042161\n",
       "33056           5.0   4.475309\n",
       "33057           3.0   2.601510\n",
       "33058           4.5   4.148482\n",
       "\n",
       "[33059 rows x 2 columns]"
      ]
     },
     "execution_count": 20,
     "metadata": {},
     "output_type": "execute_result"
    }
   ],
   "source": [
    "df_y_test = pd.DataFrame(y_test, columns=['ground_truth'])\n",
    "df_predicted = pd.DataFrame(pred_test, columns=['predicted'])\n",
    "prediction_result = pd.concat([df_y_test, df_predicted], axis=1)\n",
    "prediction_result"
   ]
  },
  {
   "cell_type": "code",
   "execution_count": 21,
   "metadata": {},
   "outputs": [
    {
     "data": {
      "image/png": "[encoded data removed]",
      "text/plain": [
       "<Figure size 432x288 with 1 Axes>"
      ]
     },
     "metadata": {
      "needs_background": "light"
     },
     "output_type": "display_data"
    }
   ],
   "source": [
    "chart_regression(pred_test.flatten(), y_test, sort=True)"
   ]
  },
  {
   "cell_type": "code",
   "execution_count": 22,
   "metadata": {},
   "outputs": [],
   "source": [
    "winsound.Beep(2000, 300)"
   ]
  },
  {
   "cell_type": "code",
   "execution_count": null,
   "metadata": {},
   "outputs": [],
   "source": []
  }
 ],
 "metadata": {
  "kernelspec": {
   "display_name": "Python 3",
   "language": "python",
   "name": "python3"
  },
  "language_info": {
   "codemirror_mode": {
    "name": "ipython",
    "version": 3
   },
   "file_extension": ".py",
   "mimetype": "text/x-python",
   "name": "python",
   "nbconvert_exporter": "python",
   "pygments_lexer": "ipython3",
   "version": "3.7.6"
  }
 },
 "nbformat": 4,
 "nbformat_minor": 4
}
